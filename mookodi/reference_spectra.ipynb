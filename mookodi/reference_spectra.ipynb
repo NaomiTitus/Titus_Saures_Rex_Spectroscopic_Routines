{
 "cells": [
  {
   "cell_type": "code",
   "execution_count": 1,
   "id": "great-portrait",
   "metadata": {},
   "outputs": [],
   "source": [
    "#https://github.com/crawfordsm/specidentify/blob/master/docs/notebook/arcwidget_tutorial.ipynb\n",
    "\n",
    "%matplotlib widget\n",
    "%load_ext autoreload\n",
    "%autoreload 2"
   ]
  },
  {
   "cell_type": "code",
   "execution_count": 2,
   "id": "administrative-ordinary",
   "metadata": {},
   "outputs": [],
   "source": [
    "# imports needed from \n",
    "import numpy as np\n",
    "from matplotlib import pyplot as plt\n",
    "\n",
    "from astropy import units as u\n",
    "from astropy import modeling as mod\n",
    "from astropy.io import fits\n",
    "from astropy.table import Table\n",
    "\n",
    "from specutils import Spectrum1D"
   ]
  },
  {
   "cell_type": "code",
   "execution_count": 3,
   "id": "spoken-martin",
   "metadata": {},
   "outputs": [],
   "source": [
    "# imports needed from specidentify \n",
    "from specidentify import WavelengthSolution\n",
    "from specidentify import ArcIdentify"
   ]
  },
  {
   "cell_type": "code",
   "execution_count": 4,
   "id": "alternate-rating",
   "metadata": {},
   "outputs": [
    {
     "name": "stdout",
     "output_type": "stream",
     "text": [
      "(1024,)\n"
     ]
    }
   ],
   "source": [
    "lamp_image = fits.getdata('MKD_20211104.0068.fits')\n",
    "lamp_spec = np.flip(np.median(lamp_image[330:340, :], axis=0))\n",
    "\n",
    "print (np.shape(lamp_spec))\n",
    "\n",
    "arc = Spectrum1D(spectral_axis=np.arange(len(lamp_spec))*u.pixel , flux=lamp_spec*u.electron)"
   ]
  },
  {
   "cell_type": "code",
   "execution_count": 5,
   "id": "hidden-nature",
   "metadata": {},
   "outputs": [
    {
     "data": {
      "application/vnd.jupyter.widget-view+json": {
       "model_id": "0527d8f649404d02bf6f56ad6bf7899d",
       "version_major": 2,
       "version_minor": 0
      },
      "text/plain": [
       "Canvas(toolbar=Toolbar(toolitems=[('Home', 'Reset original view', 'home', 'home'), ('Back', 'Back to previous …"
      ]
     },
     "metadata": {},
     "output_type": "display_data"
    },
    {
     "data": {
      "text/plain": [
       "Text(0, 0.5, 'Flux [electron]')"
      ]
     },
     "execution_count": 5,
     "metadata": {},
     "output_type": "execute_result"
    }
   ],
   "source": [
    "# a plot of the uncalibrated arc spectra\n",
    "ax = plt.subplots()[1]  \n",
    "ax.plot(arc.spectral_axis, arc.flux)  \n",
    "ax.set_xlabel(\"Dispersion [pixels]\")  \n",
    "ax.set_ylabel(\"Flux [electron]\")"
   ]
  },
  {
   "cell_type": "code",
   "execution_count": 6,
   "id": "wireless-corner",
   "metadata": {},
   "outputs": [],
   "source": [
    "xarr = np.arange(len(arc.data))\n",
    "\n",
    "line_table = np.loadtxt('Xe.txt', unpack=True, usecols=(0,1))\n",
    "line_table = Table(line_table.T, names=('wavelength', 'flux'))"
   ]
  },
  {
   "cell_type": "code",
   "execution_count": 7,
   "id": "employed-anniversary",
   "metadata": {},
   "outputs": [],
   "source": [
    "ws_init = mod.models.Chebyshev1D(3)\n",
    "ws_init.domain = [xarr.min(), xarr.max()]\n",
    "ws_init = mod.fitting.LinearLSQFitter()(ws_init, xarr, xarr)"
   ]
  },
  {
   "cell_type": "code",
   "execution_count": 8,
   "id": "damaged-prince",
   "metadata": {},
   "outputs": [],
   "source": [
    "ws = WavelengthSolution(x=None, wavelength=None, model=ws_init)"
   ]
  },
  {
   "cell_type": "code",
   "execution_count": 9,
   "id": "earned-consensus",
   "metadata": {},
   "outputs": [],
   "source": [
    "x = [134,180,483,574,700,813,930,1008]\n",
    "w = [4500,4671,5823,6318,6668,7119,7584,7887]\n",
    "ws = WavelengthSolution(x=x, wavelength=w, model=ws_init)\n",
    "ws.fit()"
   ]
  },
  {
   "cell_type": "code",
   "execution_count": null,
   "id": "narrative-collectible",
   "metadata": {},
   "outputs": [],
   "source": []
  },
  {
   "cell_type": "code",
   "execution_count": 10,
   "id": "protective-plymouth",
   "metadata": {},
   "outputs": [
    {
     "data": {
      "application/vnd.jupyter.widget-view+json": {
       "model_id": "78d0e3c70925412383157c423ec1a8af",
       "version_major": 2,
       "version_minor": 0
      },
      "text/plain": [
       "Canvas(toolbar=Toolbar(toolitems=[('Home', 'Reset original view', 'home', 'home'), ('Back', 'Back to previous …"
      ]
     },
     "metadata": {},
     "output_type": "display_data"
    },
    {
     "data": {
      "application/vnd.jupyter.widget-view+json": {
       "model_id": "40fdb9b88ebd494f9926543c43ee590b",
       "version_major": 2,
       "version_minor": 0
      },
      "text/plain": [
       "VBox(children=(ColorPicker(value='#2d34ff', description='Color for Arc'), BoundedFloatText(value=0.0, descript…"
      ]
     },
     "metadata": {},
     "output_type": "display_data"
    }
   ],
   "source": [
    "aw = ArcIdentify(arc, ws, line_table, wavelength_range=[4000, 8000], flatten_order=9)"
   ]
  },
  {
   "cell_type": "raw",
   "id": "simple-charger",
   "metadata": {},
   "source": []
  },
  {
   "cell_type": "code",
   "execution_count": null,
   "id": "pediatric-revolution",
   "metadata": {},
   "outputs": [],
   "source": []
  },
  {
   "cell_type": "code",
   "execution_count": null,
   "id": "lyric-landing",
   "metadata": {},
   "outputs": [],
   "source": []
  },
  {
   "cell_type": "code",
   "execution_count": 11,
   "id": "excessive-counter",
   "metadata": {},
   "outputs": [
    {
     "name": "stdout",
     "output_type": "stream",
     "text": [
      "\n",
      " x - centroid on line    a - Display spectrum\n",
      " b - identify features   f - fit solution\n",
      " r - redraw spectrum     e - add closest line\n",
      " d - delete feature\n",
      "       \n"
     ]
    }
   ],
   "source": [
    "aw.show_commands()"
   ]
  },
  {
   "cell_type": "code",
   "execution_count": 11,
   "id": "turned-richardson",
   "metadata": {},
   "outputs": [
    {
     "data": {
      "application/vnd.jupyter.widget-view+json": {
       "model_id": "94430176a911449481f0209be64a09a6",
       "version_major": 2,
       "version_minor": 0
      },
      "text/plain": [
       "Canvas(toolbar=Toolbar(toolitems=[('Home', 'Reset original view', 'home', 'home'), ('Back', 'Back to previous …"
      ]
     },
     "metadata": {},
     "output_type": "display_data"
    },
    {
     "data": {
      "application/vnd.jupyter.widget-view+json": {
       "model_id": "4c7ecc451932428fbe38ca62e1cacf0a",
       "version_major": 2,
       "version_minor": 0
      },
      "text/plain": [
       "VBox(children=(ColorPicker(value='#FF0011', description='Color for Arc'), Checkbox(value=True, description='Di…"
      ]
     },
     "metadata": {},
     "output_type": "display_data"
    }
   ],
   "source": [
    "aw.draw_error()"
   ]
  },
  {
   "cell_type": "code",
   "execution_count": 101,
   "id": "active-passion",
   "metadata": {},
   "outputs": [
    {
     "data": {
      "text/plain": [
       "2.711763924897241"
      ]
     },
     "execution_count": 101,
     "metadata": {},
     "output_type": "execute_result"
    }
   ],
   "source": [
    "# Displays the rms of the fit\n",
    "aw.ws.sigma(aw.xp, aw.wp)"
   ]
  },
  {
   "cell_type": "code",
   "execution_count": 102,
   "id": "multiple-novelty",
   "metadata": {},
   "outputs": [],
   "source": [
    "arc_w = Spectrum1D(spectral_axis=aw.ws(np.arange(len(lamp_spec))) * u.angstrom, flux=lamp_spec*u.electron)"
   ]
  },
  {
   "cell_type": "code",
   "execution_count": 103,
   "id": "valid-palmer",
   "metadata": {},
   "outputs": [
    {
     "data": {
      "application/vnd.jupyter.widget-view+json": {
       "model_id": "5fe230e3b90741ca87520bead6edf2cb",
       "version_major": 2,
       "version_minor": 0
      },
      "text/plain": [
       "Canvas(toolbar=Toolbar(toolitems=[('Home', 'Reset original view', 'home', 'home'), ('Back', 'Back to previous …"
      ]
     },
     "metadata": {},
     "output_type": "display_data"
    },
    {
     "data": {
      "text/plain": [
       "Text(0, 0.5, 'Flux [electron]')"
      ]
     },
     "execution_count": 103,
     "metadata": {},
     "output_type": "execute_result"
    }
   ],
   "source": [
    "ax = plt.subplots()[1]  \n",
    "ax.plot(arc_w.spectral_axis, arc_w.flux)  \n",
    "ax.set_xlabel(\"Dispersion [Angstrom]\")  \n",
    "ax.set_ylabel(\"Flux [electron]\")"
   ]
  },
  {
   "cell_type": "code",
   "execution_count": 104,
   "id": "rocky-examination",
   "metadata": {},
   "outputs": [],
   "source": [
    "f = open('ref_xe_mk_lo.dat','w')\n",
    "[f.write('%g %g\\n' % (arc_w.spectral_axis[i].angstrom, lamp_spec[i])) for i in range(len(arc_w.spectral_axis))]\n",
    "f.close()"
   ]
  },
  {
   "cell_type": "code",
   "execution_count": null,
   "id": "threaded-continuity",
   "metadata": {},
   "outputs": [],
   "source": []
  },
  {
   "cell_type": "code",
   "execution_count": 143,
   "id": "alternate-copying",
   "metadata": {},
   "outputs": [],
   "source": [
    "lamp_image = fits.getdata('tarc.fits')\n",
    "lamp_spec = np.flip(np.sum(lamp_image[10:20, :], axis=0))\n",
    "\n",
    "arc = Spectrum1D(spectral_axis=np.arange(len(lamp_spec))*u.pixel , flux=lamp_spec*u.electron)"
   ]
  },
  {
   "cell_type": "code",
   "execution_count": 154,
   "id": "coastal-improvement",
   "metadata": {},
   "outputs": [],
   "source": [
    "x = [134,180,483,574,700,813,930,1008]\n",
    "w = [4500,4671,5823,6318,6668,7119,7584,7887]\n",
    "ws = WavelengthSolution(x=x, wavelength=w, model=ws_init)\n",
    "ws.fit()"
   ]
  },
  {
   "cell_type": "code",
   "execution_count": 155,
   "id": "fatty-maine",
   "metadata": {},
   "outputs": [
    {
     "data": {
      "application/vnd.jupyter.widget-view+json": {
       "model_id": "b0a9aa071859468393cebc508bcdf3db",
       "version_major": 2,
       "version_minor": 0
      },
      "text/plain": [
       "Canvas(toolbar=Toolbar(toolitems=[('Home', 'Reset original view', 'home', 'home'), ('Back', 'Back to previous …"
      ]
     },
     "metadata": {},
     "output_type": "display_data"
    },
    {
     "data": {
      "application/vnd.jupyter.widget-view+json": {
       "model_id": "d1445e2ebc594caa91e69666c7438f19",
       "version_major": 2,
       "version_minor": 0
      },
      "text/plain": [
       "VBox(children=(ColorPicker(value='#2d34ff', description='Color for Arc'), BoundedFloatText(value=0.0, descript…"
      ]
     },
     "metadata": {},
     "output_type": "display_data"
    }
   ],
   "source": [
    "aw = ArcIdentify(arc, ws, line_table, wavelength_range=[4000, 8000], flatten_order=9)"
   ]
  },
  {
   "cell_type": "code",
   "execution_count": 162,
   "id": "realistic-slide",
   "metadata": {},
   "outputs": [
    {
     "data": {
      "application/vnd.jupyter.widget-view+json": {
       "model_id": "9dbde07ac7384d8eb4f9ca7099535bd5",
       "version_major": 2,
       "version_minor": 0
      },
      "text/plain": [
       "Canvas(toolbar=Toolbar(toolitems=[('Home', 'Reset original view', 'home', 'home'), ('Back', 'Back to previous …"
      ]
     },
     "metadata": {},
     "output_type": "display_data"
    },
    {
     "data": {
      "application/vnd.jupyter.widget-view+json": {
       "model_id": "22931ed830d84c10b206f31e9560493c",
       "version_major": 2,
       "version_minor": 0
      },
      "text/plain": [
       "VBox(children=(ColorPicker(value='#FF0011', description='Color for Arc'), Checkbox(value=True, description='Di…"
      ]
     },
     "metadata": {},
     "output_type": "display_data"
    }
   ],
   "source": [
    "aw.draw_error()"
   ]
  },
  {
   "cell_type": "code",
   "execution_count": 163,
   "id": "adapted-certification",
   "metadata": {},
   "outputs": [],
   "source": [
    "arc_w = Spectrum1D(spectral_axis=aw.ws(np.arange(len(lamp_spec))) * u.angstrom, flux=lamp_spec*u.electron)"
   ]
  },
  {
   "cell_type": "code",
   "execution_count": 165,
   "id": "entitled-hepatitis",
   "metadata": {},
   "outputs": [],
   "source": [
    "f = open('ref_xe_mk_hi.dat','w')\n",
    "[f.write('%g %g\\n' % (arc_w.spectral_axis[i].angstrom, 0.19*lamp_spec[i])) for i in range(len(arc_w.spectral_axis))]\n",
    "f.close()"
   ]
  },
  {
   "cell_type": "code",
   "execution_count": null,
   "id": "apparent-netherlands",
   "metadata": {},
   "outputs": [],
   "source": []
  }
 ],
 "metadata": {
  "kernelspec": {
   "display_name": "Python 3",
   "language": "python",
   "name": "python3"
  },
  "language_info": {
   "codemirror_mode": {
    "name": "ipython",
    "version": 3
   },
   "file_extension": ".py",
   "mimetype": "text/x-python",
   "name": "python",
   "nbconvert_exporter": "python",
   "pygments_lexer": "ipython3",
   "version": "3.8.5"
  }
 },
 "nbformat": 4,
 "nbformat_minor": 5
}
